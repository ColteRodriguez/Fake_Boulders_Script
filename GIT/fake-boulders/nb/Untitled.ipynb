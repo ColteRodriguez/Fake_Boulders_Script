{
 "cells": [
  {
   "cell_type": "code",
   "execution_count": 16,
   "id": "922081ab-15de-4ca1-8d28-b7c48bf77259",
   "metadata": {},
   "outputs": [
    {
     "name": "stdout",
     "output_type": "stream",
     "text": [
      "...Generate graticule for raster M152424055LE_final.tif (500x500 pixels, stride 0/0)...\n",
      "...Generate graticule for raster M174285569LE.tif (500x500 pixels, stride 0/0)...\n",
      "***Raster graticules generated successfully. WARNING: Action must be taken before proceeding to Setup.py See README step 3 for next steps***\n"
     ]
    }
   ],
   "source": [
    "%run Prepare_Graticules.py"
   ]
  },
  {
   "cell_type": "code",
   "execution_count": null,
   "id": "2457e211-eb05-4e7f-8399-e2b91ae20189",
   "metadata": {},
   "outputs": [],
   "source": [
    "%run Client.py 1 home random random False "
   ]
  },
  {
   "cell_type": "code",
   "execution_count": 17,
   "id": "85b92dcc-82ae-4e9b-a863-d993635a99cf",
   "metadata": {},
   "outputs": [
    {
     "name": "stdout",
     "output_type": "stream",
     "text": [
      "\u001b[32mPaths retrieved\n",
      "\u001b[37mNumber of manually selected boulder tiles: 35, with 10 attributes\n",
      "...Tiling original image into small image patches...\n"
     ]
    },
    {
     "name": "stderr",
     "output_type": "stream",
     "text": [
      "100%|███████████████████████████████████████████| 35/35 [00:01<00:00, 30.49it/s]\n"
     ]
    },
    {
     "name": "stdout",
     "output_type": "stream",
     "text": [
      "...Generating one boulder outline shapefile per image patch...\n"
     ]
    },
    {
     "name": "stderr",
     "output_type": "stream",
     "text": [
      "100%|███████████████████████████████████████████| 35/35 [00:10<00:00,  3.26it/s]\n"
     ]
    },
    {
     "name": "stdout",
     "output_type": "stream",
     "text": [
      "\u001b[37m...Listing Clipped Boulder Images...\n",
      "\u001b[31mWARNING: default behavior changed to ignore SettingWithCopyWarning\n",
      "\u001b[37mNumber of boulders extracted: 1494 with 11 attributes.\n",
      "...Tiling original image into small image patches...\n"
     ]
    },
    {
     "name": "stderr",
     "output_type": "stream",
     "text": [
      "100%|███████████████████████████████████████████| 20/20 [00:00<00:00, 23.08it/s]"
     ]
    },
    {
     "name": "stdout",
     "output_type": "stream",
     "text": [
      "Setup complete. Client program can now be run to generate fake boulders.\n"
     ]
    },
    {
     "name": "stderr",
     "output_type": "stream",
     "text": [
      "\n"
     ]
    }
   ],
   "source": [
    "%run Setup.py"
   ]
  },
  {
   "cell_type": "code",
   "execution_count": 25,
   "id": "63cd2ac9-8ada-45f4-9838-1a61221adafc",
   "metadata": {},
   "outputs": [
    {
     "name": "stdout",
     "output_type": "stream",
     "text": [
      "['Client.py', '1', 'home', '50.0', '3.0', 'False', 'False']\n",
      "Generating an image with AOI = 50.0, Rim Distance (in crater radii) = 3.0, and total desntiy = 71\n",
      "Meta configured successfully\n",
      "Generating boulders for 1th size class. 59 boulders will be generated\n",
      "Generating boulders for 2th size class. 12 boulders will be generated\n",
      "Generating boulders for 3th size class. 0 boulders will be generated\n",
      "Created image 1 of 1\n"
     ]
    },
    {
     "data": {
      "image/png": "[encoded data removed]",
      "text/plain": [
       "<Figure size 640x480 with 1 Axes>"
      ]
     },
     "metadata": {},
     "output_type": "display_data"
    }
   ],
   "source": [
    "%run Client.py 1 home 50.0 3.0 False False"
   ]
  },
  {
   "cell_type": "code",
   "execution_count": null,
   "id": "587b4f6a-64e0-4d3a-affb-a3bcce157339",
   "metadata": {},
   "outputs": [],
   "source": []
  }
 ],
 "metadata": {
  "kernelspec": {
   "display_name": "Python 3 (ipykernel)",
   "language": "python",
   "name": "python3"
  },
  "language_info": {
   "codemirror_mode": {
    "name": "ipython",
    "version": 3
   },
   "file_extension": ".py",
   "mimetype": "text/x-python",
   "name": "python",
   "nbconvert_exporter": "python",
   "pygments_lexer": "ipython3",
   "version": "3.9.16"
  }
 },
 "nbformat": 4,
 "nbformat_minor": 5
}
